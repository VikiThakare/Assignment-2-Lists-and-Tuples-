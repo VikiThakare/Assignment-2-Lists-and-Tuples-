{
 "cells": [
  {
   "cell_type": "code",
   "execution_count": 162,
   "id": "de37cd11",
   "metadata": {},
   "outputs": [
    {
     "name": "stdout",
     "output_type": "stream",
     "text": [
      "Output : [(2, 1), (1, 2), (2, 3), (4, 4), (2, 5)]\n"
     ]
    }
   ],
   "source": [
    "# Write a Python program to get a list, sorted in increasing order by the last element in each tuple \n",
    "# from a given list of non-empty tuples\n",
    "\n",
    "def sorting(tuples_list):\n",
    "    sorting_key = lambda x :x[-1]\n",
    "    sorted_list = sorted(tuples_list, key=sorting_key)\n",
    "    \n",
    "    return sorted_list\n",
    "\n",
    "tuples_list = [(2, 5), (1, 2), (4, 4), (2, 3), (2, 1)]\n",
    "\n",
    "sort_result = sorting(tuples_list)\n",
    "\n",
    "print(\"Output :\",sort_result)"
   ]
  },
  {
   "cell_type": "code",
   "execution_count": null,
   "id": "52a05ecd",
   "metadata": {},
   "outputs": [],
   "source": []
  }
 ],
 "metadata": {
  "kernelspec": {
   "display_name": "Python 3 (ipykernel)",
   "language": "python",
   "name": "python3"
  },
  "language_info": {
   "codemirror_mode": {
    "name": "ipython",
    "version": 3
   },
   "file_extension": ".py",
   "mimetype": "text/x-python",
   "name": "python",
   "nbconvert_exporter": "python",
   "pygments_lexer": "ipython3",
   "version": "3.10.9"
  }
 },
 "nbformat": 4,
 "nbformat_minor": 5
}
